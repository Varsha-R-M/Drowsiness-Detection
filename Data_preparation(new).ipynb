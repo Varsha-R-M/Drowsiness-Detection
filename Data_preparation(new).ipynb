{
 "cells": [
  {
   "cell_type": "code",
   "execution_count": 2,
   "id": "c0c7e0c2",
   "metadata": {},
   "outputs": [],
   "source": [
    "import os\n",
    "import shutil\n",
    "import glob\n",
    "from tqdm import tqdm"
   ]
  },
  {
   "cell_type": "markdown",
   "id": "b899e675",
   "metadata": {},
   "source": [
    "#\n",
    "#\n",
    "subject ID:\n",
    "xxx\n",
    "\n",
    "image number:\n",
    "xxx\n",
    "\n",
    "gender:\n",
    "0 - male\n",
    "1 - famale\n",
    "\n",
    "glasses:\n",
    "0 - no\n",
    "1 - yes\n",
    "\n",
    "eye state:\n",
    "0 - close\n",
    "1 - open\n",
    "\n",
    "reflections:\n",
    "0 - none\n",
    "1 - low\n",
    "2 - high\n",
    "\n",
    "lighting conditions/image quality:\n",
    "0 - bad\n",
    "1 - good\n",
    "\n",
    "sensor type:\n",
    "01 - RealSense SR300 640x480\n",
    "02 - IDS Imaging, 1280x1024\n",
    "03 - Aptina Imagin 752x480\n",
    "\n",
    "example:\n",
    "s001_00123_0_0_0_0_0_01.png"
   ]
  },
  {
   "cell_type": "code",
   "execution_count": 3,
   "id": "83ed91cc",
   "metadata": {},
   "outputs": [
    {
     "name": "stderr",
     "output_type": "stream",
     "text": [
      "0it [00:00, ?it/s]\n",
      "100%|██████████| 3242/3242 [00:35<00:00, 90.62it/s]\n",
      "100%|██████████| 1114/1114 [00:12<00:00, 91.69it/s] \n",
      "100%|██████████| 679/679 [00:07<00:00, 94.28it/s] \n",
      "100%|██████████| 1069/1069 [00:10<00:00, 101.09it/s]\n",
      "100%|██████████| 736/736 [00:07<00:00, 100.96it/s]\n",
      "100%|██████████| 1012/1012 [00:10<00:00, 101.18it/s]\n",
      "100%|██████████| 624/624 [00:05<00:00, 104.07it/s]\n",
      "100%|██████████| 832/832 [00:09<00:00, 91.96it/s] \n",
      "100%|██████████| 387/387 [00:04<00:00, 92.68it/s] \n",
      "100%|██████████| 399/399 [00:04<00:00, 92.80it/s] \n",
      "100%|██████████| 1648/1648 [00:19<00:00, 86.62it/s]\n",
      "100%|██████████| 8728/8728 [01:24<00:00, 103.61it/s]\n",
      "100%|██████████| 3605/3605 [00:27<00:00, 132.48it/s]\n",
      "100%|██████████| 8884/8884 [01:05<00:00, 134.76it/s]\n",
      "100%|██████████| 1132/1132 [00:08<00:00, 131.63it/s]\n",
      "100%|██████████| 1889/1889 [00:14<00:00, 134.28it/s]\n",
      "100%|██████████| 1648/1648 [00:12<00:00, 135.52it/s]\n",
      "100%|██████████| 4410/4410 [00:33<00:00, 132.43it/s]\n",
      "100%|██████████| 6175/6175 [00:47<00:00, 130.24it/s]\n",
      "100%|██████████| 704/704 [00:05<00:00, 128.68it/s]\n",
      "100%|██████████| 987/987 [00:07<00:00, 130.37it/s]\n",
      "100%|██████████| 382/382 [00:02<00:00, 128.72it/s]\n",
      "100%|██████████| 522/522 [00:04<00:00, 127.38it/s]\n",
      "100%|██████████| 752/752 [00:07<00:00, 106.61it/s]\n",
      "100%|██████████| 1502/1502 [00:12<00:00, 116.47it/s]\n",
      "100%|██████████| 1246/1246 [00:09<00:00, 130.55it/s]\n",
      "100%|██████████| 665/665 [00:05<00:00, 126.15it/s]\n",
      "100%|██████████| 736/736 [00:05<00:00, 129.71it/s]\n",
      "100%|██████████| 1393/1393 [00:11<00:00, 123.20it/s]\n",
      "100%|██████████| 1384/1384 [00:11<00:00, 122.44it/s]\n",
      "100%|██████████| 1738/1738 [00:14<00:00, 119.88it/s]\n",
      "100%|██████████| 6162/6162 [00:53<00:00, 115.65it/s]\n",
      "100%|██████████| 681/681 [00:05<00:00, 114.67it/s]\n",
      "100%|██████████| 739/739 [00:06<00:00, 116.63it/s]\n",
      "100%|██████████| 642/642 [00:05<00:00, 109.51it/s]\n",
      "100%|██████████| 6193/6193 [00:50<00:00, 121.76it/s]\n",
      "100%|██████████| 10257/10257 [01:13<00:00, 139.80it/s]\n"
     ]
    }
   ],
   "source": [
    "Raw_DIR= r'E:\\DATASETS\\mrlEyes\\mrlEyes_2018_01'\n",
    "for dirpath,dirname,filenames in os.walk(Raw_DIR):\n",
    "    for i in tqdm([f for f in filenames if f.endswith('.png')]):\n",
    "        if i.split('_')[4]=='0':\n",
    "            shutil.copy(src=dirpath+'/'+i, dst=r'E:\\DATASETS\\mrlEyes\\prepared_data\\closed')\n",
    "            \n",
    "        elif i.split('_')[4]=='1':\n",
    "            shutil.copy(src=dirpath+'/'+i, dst=r'E:\\DATASETS\\mrlEyes\\prepared_data\\open')"
   ]
  },
  {
   "cell_type": "code",
   "execution_count": null,
   "id": "8342098e",
   "metadata": {},
   "outputs": [],
   "source": []
  }
 ],
 "metadata": {
  "kernelspec": {
   "display_name": "Python 3 (ipykernel)",
   "language": "python",
   "name": "python3"
  },
  "language_info": {
   "codemirror_mode": {
    "name": "ipython",
    "version": 3
   },
   "file_extension": ".py",
   "mimetype": "text/x-python",
   "name": "python",
   "nbconvert_exporter": "python",
   "pygments_lexer": "ipython3",
   "version": "3.9.7"
  }
 },
 "nbformat": 4,
 "nbformat_minor": 5
}
